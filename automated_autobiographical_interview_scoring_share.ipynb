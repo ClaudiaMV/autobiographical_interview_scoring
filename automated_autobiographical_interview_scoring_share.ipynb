{
  "nbformat": 4,
  "nbformat_minor": 0,
  "metadata": {
    "colab": {
      "name": "automated_autobiographical_interview_scoring_share.ipynb",
      "provenance": [],
      "authorship_tag": "ABX9TyMzDF1WlKYwqvov+oeRPhRt",
      "include_colab_link": true
    },
    "kernelspec": {
      "name": "python3",
      "display_name": "Python 3"
    },
    "language_info": {
      "name": "python"
    }
  },
  "cells": [
    {
      "cell_type": "markdown",
      "metadata": {
        "id": "view-in-github",
        "colab_type": "text"
      },
      "source": [
        "<a href=\"https://colab.research.google.com/github/rubenvangenugten/autobiographical_interview_scoring/blob/main/automated_autobiographical_interview_scoring_share.ipynb\" target=\"_parent\"><img src=\"https://colab.research.google.com/assets/colab-badge.svg\" alt=\"Open In Colab\"/></a>"
      ]
    },
    {
      "cell_type": "markdown",
      "source": [
        "# Welcome!"
      ],
      "metadata": {
        "id": "4hUhMXYd1NwN"
      }
    },
    {
      "cell_type": "markdown",
      "source": [
        "Please read through the .readme file on github to ensure your data is in the correct format. \n",
        "\n",
        "Now, to run the code, click 'runtime' -> 'run all' in your menu bar. You'll be prompted for google drive login, which colab needs to access your data file. Once the code is done running, you should be able to find the results in the folder you created. \n"
      ],
      "metadata": {
        "id": "l_o_Kw7uVuof"
      }
    },
    {
      "cell_type": "markdown",
      "source": [
        "<br />\n",
        "\n",
        "### Unless you want to customize something, you should not have to do anything with the content/code below\n",
        "\n",
        "<br />"
      ],
      "metadata": {
        "id": "oMIBtaqmyyDh"
      }
    },
    {
      "cell_type": "markdown",
      "source": [
        "All code for model loading, use, data encoding, and related matters has been copied or adapted from the huggingface [documentation](https://huggingface.co/docs/transformers/index) and the example [library](https://github.com/huggingface/notebooks/blob/master/transformers_doc/training.ipynb)\n"
      ],
      "metadata": {
        "id": "BUfGtuFLWFAs"
      }
    },
    {
      "cell_type": "markdown",
      "source": [
        "To use this code, you'll first have to tell colab where to find your data. You can find the location of your data folder on google drive by clicking (single-click) on the folder and looking at the top of your screen. You should see something like:\n",
        "\n",
        "![image.png](data:image/png;base64,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)\n",
        "\n",
        "\n",
        "The folder location is '/content/drive/' plus whatever is at the top of the screen. So, in this case, '/content/drive/MyDrive/automated_autobiographical_interview_scoring/'"
      ],
      "metadata": {
        "id": "C5MXPj4bi8gi"
      }
    },
    {
      "cell_type": "markdown",
      "source": [
        "Edit the cell below to provide the data file location and the location where you want the results stored.\n"
      ],
      "metadata": {
        "id": "BBhJIUn31-dU"
      }
    },
    {
      "cell_type": "code",
      "source": [
        "data_location = '/content/drive/MyDrive/automated_autobiographical_interview_scoring/data.csv'\n",
        "output_location = '/content/drive/MyDrive/automated_autobiographical_interview_scoring/'"
      ],
      "metadata": {
        "id": "U6ZpPMQFynH6"
      },
      "execution_count": null,
      "outputs": []
    },
    {
      "cell_type": "markdown",
      "source": [
        "The cell below allows colab to access google drive"
      ],
      "metadata": {
        "id": "YS7CujXlz_9k"
      }
    },
    {
      "cell_type": "code",
      "metadata": {
        "id": "hEOQBui2gHPw"
      },
      "source": [
        "from google.colab import drive\n",
        "drive.mount('/content/drive')"
      ],
      "execution_count": null,
      "outputs": []
    },
    {
      "cell_type": "markdown",
      "source": [
        "The code below installs necessary libraries"
      ],
      "metadata": {
        "id": "FFmEQYm10Dr9"
      }
    },
    {
      "cell_type": "code",
      "source": [
        "pip install transformers==4.6.0"
      ],
      "metadata": {
        "id": "sf7YZtJq1Pmd"
      },
      "execution_count": null,
      "outputs": []
    },
    {
      "cell_type": "code",
      "metadata": {
        "id": "KhS3DLo8iH3k"
      },
      "source": [
        "pip install pysbd"
      ],
      "execution_count": null,
      "outputs": []
    },
    {
      "cell_type": "code",
      "metadata": {
        "id": "GLEY26WHiKtS"
      },
      "source": [
        "import pandas as pd\n",
        "import os\n",
        "import numpy as np\n",
        "import tensorflow as tf\n",
        "import pysbd\n",
        "import re\n",
        "from transformers import AutoTokenizer, TFDistilBertForSequenceClassification\n",
        "from transformers import TextClassificationPipeline"
      ],
      "execution_count": null,
      "outputs": []
    },
    {
      "cell_type": "markdown",
      "source": [
        "define sentence segmenter so that it's easier to use later\n"
      ],
      "metadata": {
        "id": "fOriBIr83JKA"
      }
    },
    {
      "cell_type": "code",
      "source": [
        "seg = pysbd.Segmenter(language=\"en\", clean=False)"
      ],
      "metadata": {
        "id": "Seobe6pJs6hr"
      },
      "execution_count": null,
      "outputs": []
    },
    {
      "cell_type": "markdown",
      "source": [
        "Reload model trained on all datasets. \n",
        "Reload tokenizer saved with it (just standard distilbert tokenizer). These are stored on the huggingface model hub and can be accessed directly with code below"
      ],
      "metadata": {
        "id": "2L8qfiS7syWJ"
      }
    },
    {
      "cell_type": "code",
      "metadata": {
        "id": "t6lDKbVJlEQ-"
      },
      "source": [
        "model = TFDistilBertForSequenceClassification.from_pretrained(\"vangenugtenr/autobiographical_interview_scoring\")\n",
        "tokenizer = AutoTokenizer.from_pretrained(\"vangenugtenr/autobiographical_interview_scoring\")"
      ],
      "execution_count": null,
      "outputs": []
    },
    {
      "cell_type": "markdown",
      "source": [
        "Read in data from the location provided at the top of this notebook"
      ],
      "metadata": {
        "id": "sGrJhywUs_ca"
      }
    },
    {
      "cell_type": "code",
      "source": [
        "allDat = pd.read_csv(data_location)"
      ],
      "metadata": {
        "id": "jONHybF0biWZ"
      },
      "execution_count": null,
      "outputs": []
    },
    {
      "cell_type": "markdown",
      "source": [
        "Now, take each narrative and split it up into sentences. We do this because sentences are the level at which we classify content. We want to end up with a new dataframe in which each row contains participantID, prompt, text, and one  sentence. So let's say we start with two initial rows of data: two narratives. Let's say that each has ten sentences. After the code below, our resulting dataframe should be 20 rows long.\n",
        "\n",
        "This way, the sentences can easily be classified and are matched to the stories they came from.\n",
        "\n",
        "Approach:\n",
        "\n",
        "Loop through each narrative, create a new dataframe where each row contains the participantID, prompt, text, and one of the resulting sentences. Store this dataframe. At the end, bind all dataframes together. This way, we obtain a dataframe with all narratives in long format, where each row has a sentence that can be classified."
      ],
      "metadata": {
        "id": "SPXmED7a3Jgi"
      }
    },
    {
      "cell_type": "code",
      "source": [
        "list_of_dataframes = []\n",
        "\n",
        "for row in range(allDat.shape[0]):\n",
        "    \n",
        "    # access some general info about this narrative\n",
        "    this_subID = allDat.iloc[row, allDat.columns.get_loc(\"participantID\")]\n",
        "    this_prompt = allDat.iloc[row, allDat.columns.get_loc(\"prompt\")]\n",
        "    narrative = allDat.iloc[row, allDat.columns.get_loc(\"text\")]\n",
        "\n",
        "    # store current row\n",
        "    currentRow = allDat.iloc[[row], :] # if don't have brackets around row, not returned as Df, which is needed for merge\n",
        "\n",
        "    # create new dataframe with each row a new sentence, and subID and prompt added\n",
        "    segmented_sentences = seg.segment(narrative)\n",
        "    sentences_df = pd.DataFrame(segmented_sentences, columns=['sentence'])\n",
        "    sentences_df[\"participantID\"] = this_subID\n",
        "    sentences_df[\"prompt\"] = this_prompt\n",
        "\n",
        "    # create a new merged dataframe \n",
        "    merged_thisNarrative = pd.merge(currentRow, sentences_df, on=[\"participantID\", \"prompt\"])\n",
        "\n",
        "    list_of_dataframes.append(merged_thisNarrative)\n",
        "  \n",
        "\n",
        "testData = pd.concat(list_of_dataframes)\n"
      ],
      "metadata": {
        "id": "mKWDRVhlxCdA"
      },
      "execution_count": null,
      "outputs": []
    },
    {
      "cell_type": "markdown",
      "source": [
        "Now, prepare the data so that it can passed to our model"
      ],
      "metadata": {
        "id": "lza9Gqu9nPif"
      }
    },
    {
      "cell_type": "code",
      "metadata": {
        "id": "Yak_reqzosQ4"
      },
      "source": [
        "# now, make sure data are character\n",
        "\n",
        "testData.loc[:,'sentence'] = testData.loc[:,'sentence'].astype('str')\n",
        "        \n",
        "# create list of texts to classify (put in list format to encode texts)\n",
        "    \n",
        "test_texts = []\n",
        "\n",
        "for row2 in range(testData.shape[0]):\n",
        "    temp_test = testData.iloc[row2, testData.columns.get_loc(\"sentence\")]\n",
        "    temp_test = str(temp_test) # strip name of dataframe, then turn into string\n",
        "    test_texts.append(temp_test)\n",
        "\n",
        "\n",
        "# encode text into something that bert can work with.\n",
        "\n",
        "test_encodings = tokenizer(test_texts, truncation=True, padding=True)\n",
        "\n",
        "test_dataset = tf.data.Dataset.from_tensor_slices((\n",
        "    dict(test_encodings)\n",
        "))"
      ],
      "execution_count": null,
      "outputs": []
    },
    {
      "cell_type": "markdown",
      "source": [
        "Classify each sentence"
      ],
      "metadata": {
        "id": "E1z0ov7Cx-Tq"
      }
    },
    {
      "cell_type": "code",
      "source": [
        "# set up text classification pipeline using our model and tokenizer\n",
        "\n",
        "pipe = TextClassificationPipeline(model=model, tokenizer=tokenizer, return_all_scores=True)\n",
        "\n",
        "# to keep amount of ram low, so that we can use the free version of\n",
        "# google colab, split classification up into batches rather than all\n",
        "# sentences at once.\n",
        "\n",
        "stored_test = []\n",
        "batch_size = 200  \n",
        "\n",
        "for i in range(0, len(test_texts), batch_size):\n",
        "   stored_test.extend(pipe(test_texts[i:i+batch_size]))"
      ],
      "metadata": {
        "id": "VmV3-VMq6Tze"
      },
      "execution_count": null,
      "outputs": []
    },
    {
      "cell_type": "markdown",
      "source": [
        "After the step above, predicted labels are stored in a list format. We'd like to work with a dataframe of predictions. So just loop through each list and turn it into a dataframe, then put them all together"
      ],
      "metadata": {
        "id": "CKl3ubKqtgPH"
      }
    },
    {
      "cell_type": "code",
      "source": [
        "list_of_predictionDfs = []\n",
        "\n",
        "for row in range(len(stored_test)):\n",
        "    \n",
        "    thisTestLabels = pd.DataFrame(stored_test[row]) \n",
        "    thisTestLabels.index = thisTestLabels['label']\n",
        "    thisTestLabels = thisTestLabels.drop('label', axis = 1)\n",
        "    thisTestLabels = thisTestLabels.transpose()\n",
        "\n",
        "    list_of_predictionDfs.append(thisTestLabels)\n",
        "\n",
        "predictionsDf = pd.concat(list_of_predictionDfs)"
      ],
      "metadata": {
        "id": "xCVdG5Vy8B3u"
      },
      "execution_count": null,
      "outputs": []
    },
    {
      "cell_type": "markdown",
      "source": [
        "Identify which label was most likely for the text"
      ],
      "metadata": {
        "id": "a-yx-HvGt7FP"
      }
    },
    {
      "cell_type": "code",
      "source": [
        "predictionsDf['toplabel'] = predictionsDf.idxmax(axis=1)"
      ],
      "metadata": {
        "id": "mkHMdjCB_3Rs"
      },
      "execution_count": null,
      "outputs": []
    },
    {
      "cell_type": "markdown",
      "source": [
        "Merge predictions dataframe with the long dataframe to obtain one large dataframe"
      ],
      "metadata": {
        "id": "CMlFm8dyt_gX"
      }
    },
    {
      "cell_type": "code",
      "source": [
        "testData2 = pd.concat([testData.reset_index(drop=True), predictionsDf.reset_index(drop=True)], axis=1)"
      ],
      "metadata": {
        "id": "lwPS0kfcEtTo"
      },
      "execution_count": null,
      "outputs": []
    },
    {
      "cell_type": "markdown",
      "source": [
        "Add a wordcount for each sentence. use for loop for readability (plus, takes no time)"
      ],
      "metadata": {
        "id": "R5mslp0BuJRl"
      }
    },
    {
      "cell_type": "code",
      "source": [
        "testData2[['sentenceWordCount']] = 0\n",
        "\n",
        "for row in range(testData2.shape[0]):\n",
        "  line = testData2.iloc[row, testData2.columns.get_loc(\"sentence\")]\n",
        "  count = len(re.findall(r'\\w+', line))\n",
        "  testData2.iloc[row, testData2.columns.get_loc(\"sentenceWordCount\")] = count"
      ],
      "metadata": {
        "id": "qYjijwlPJK72"
      },
      "execution_count": null,
      "outputs": []
    },
    {
      "cell_type": "markdown",
      "source": [
        "Create two new columns: number of words classified as internal, and number of words classified as external. Fill in those columns. As a reminder from the paper, each sentence is classified as containing 0% internal data (i.e. 100% external data), 50% internal, 75% internal, and 100% internal data."
      ],
      "metadata": {
        "id": "K20VsSncuNOE"
      }
    },
    {
      "cell_type": "code",
      "metadata": {
        "id": "oeaY2X1ioBaM"
      },
      "source": [
        "testData2[['numInt_preds']] = 0\n",
        "testData2[['numExt_preds']] = 0\n",
        "\n",
        "# now loop through each row and add in the counts\n",
        "\n",
        "for row in range(testData2.shape[0]):\n",
        "    \n",
        "    predictionType_thisIter = testData2.iloc[row, testData2.columns.get_loc(\"toplabel\")]\n",
        "    numTotalWords = testData2.iloc[row, testData2.columns.get_loc(\"sentenceWordCount\")]\n",
        "\n",
        "    internalLocation = testData2.columns.get_loc(\"numInt_preds\")\n",
        "    externalLocation = testData2.columns.get_loc(\"numExt_preds\")\n",
        "    \n",
        "    if predictionType_thisIter == 'LABEL_0':\n",
        "        testData2.iloc[row, externalLocation] = numTotalWords\n",
        "\n",
        "    if predictionType_thisIter == 'LABEL_1':\n",
        "        halfDetails = numTotalWords/2\n",
        "        testData2.iloc[row, externalLocation] = halfDetails\n",
        "        testData2.iloc[row, internalLocation] = halfDetails\n",
        "\n",
        "    if predictionType_thisIter == 'LABEL_2':\n",
        "        testData2.iloc[row, externalLocation] = numTotalWords/4\n",
        "        testData2.iloc[row, internalLocation] = numTotalWords*(3/4)\n",
        "            \n",
        "    if predictionType_thisIter == 'LABEL_3':\n",
        "        testData2.iloc[row, internalLocation] = numTotalWords"
      ],
      "execution_count": null,
      "outputs": []
    },
    {
      "cell_type": "markdown",
      "source": [
        "We now have the predicted number of internal and exteranl words for each sentence. We are interested in a narrative-level summary. So, have to sum up all internal words per narrative and all external words per narrative. We do that below"
      ],
      "metadata": {
        "id": "VHqs4mPWq-Ek"
      }
    },
    {
      "cell_type": "code",
      "source": [
        "test_write_out_subset = testData2.loc[:,[\"participantID\",\"prompt\", \"text\",\"numInt_preds\", \"numExt_preds\", 'sentenceWordCount']]\n",
        "grouped = test_write_out_subset.groupby(by = [\"participantID\", \"prompt\"]).agg({'text': 'first', \n",
        "                                            'numInt_preds': 'sum', \n",
        "                                            'numExt_preds': 'sum',\n",
        "                                            'sentenceWordCount': 'sum'})"
      ],
      "metadata": {
        "id": "xE9cei_Rn7jF"
      },
      "execution_count": null,
      "outputs": []
    },
    {
      "cell_type": "markdown",
      "source": [
        "Since we have summed across sentences, the sentenceWordCount column actually contains the wordcount of the whole narrative. so, just rename sentenceWordCount to totalWordCount, which is more appropriate"
      ],
      "metadata": {
        "id": "D1zwn6kOu3WO"
      }
    },
    {
      "cell_type": "code",
      "source": [
        "grouped.rename(columns = {\"sentenceWordCount\": \"totalWordCount\"}, \n",
        "          inplace = True)"
      ],
      "metadata": {
        "id": "mABWnBq9r5Hk"
      },
      "execution_count": null,
      "outputs": []
    },
    {
      "cell_type": "markdown",
      "source": [
        "Finally, write out data to location specified at the top"
      ],
      "metadata": {
        "id": "HerHNIdTu82s"
      }
    },
    {
      "cell_type": "code",
      "source": [
        "grouped.to_csv(output_location + '/automated_autobio_scored.csv')"
      ],
      "metadata": {
        "id": "jzAXj5PzLaBf"
      },
      "execution_count": null,
      "outputs": []
    }
  ]
}